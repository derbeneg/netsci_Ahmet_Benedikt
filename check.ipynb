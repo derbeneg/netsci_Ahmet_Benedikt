{
 "cells": [
  {
   "cell_type": "code",
   "execution_count": 2,
   "metadata": {},
   "outputs": [
    {
     "name": "stdout",
     "output_type": "stream",
     "text": [
      "Non–self transfers: 0\n",
      "Empty DataFrame\n",
      "Columns: [block_number, timestamp, date, from_address, to_address, value_token, value_base, transaction_index, log_index, transaction_hash]\n",
      "Index: []\n"
     ]
    }
   ],
   "source": [
    "import pandas as pd\n",
    "df = pd.read_csv(\"data/pepe-transfers.csv\")\n",
    "mask = df[\"from_address\"] != df[\"to_address\"]\n",
    "print(\"Non–self transfers:\", mask.sum())\n",
    "print(df[mask].head())"
   ]
  },
  {
   "cell_type": "code",
   "execution_count": null,
   "metadata": {},
   "outputs": [],
   "source": []
  }
 ],
 "metadata": {
  "kernelspec": {
   "display_name": ".venv",
   "language": "python",
   "name": "python3"
  },
  "language_info": {
   "codemirror_mode": {
    "name": "ipython",
    "version": 3
   },
   "file_extension": ".py",
   "mimetype": "text/x-python",
   "name": "python",
   "nbconvert_exporter": "python",
   "pygments_lexer": "ipython3",
   "version": "3.10.0"
  }
 },
 "nbformat": 4,
 "nbformat_minor": 2
}
