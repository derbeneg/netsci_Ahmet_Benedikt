{
 "cells": [
  {
   "cell_type": "markdown",
   "id": "16aea5d8",
   "metadata": {},
   "source": [
    "# 06 Community Detection"
   ]
  },
  {
   "cell_type": "code",
   "execution_count": null,
   "id": "3c6e732c",
   "metadata": {},
   "outputs": [],
   "source": [
    "import pandas as pd\n",
    "import networkx as nx\n",
    "import matplotlib.pyplot as plt\n",
    "import seaborn as sns\n",
    "from scripts.graph_utils import load_clean_df, build_unweighted_graph, build_weighted_graph\n",
    "\n",
    "sns.set(style=\"whitegrid\")\n"
   ]
  },
  {
   "cell_type": "markdown",
   "id": "0cd997ac",
   "metadata": {},
   "source": [
    "## Analysis goes here…"
   ]
  }
 ],
 "metadata": {},
 "nbformat": 4,
 "nbformat_minor": 5
}
