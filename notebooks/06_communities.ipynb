{
 "cells": [
  {
   "cell_type": "markdown",
   "id": "19a53949",
   "metadata": {},
   "source": [
    "# 06 Community Detection"
   ]
  },
  {
   "cell_type": "code",
   "execution_count": null,
   "id": "f8a7d2ac",
   "metadata": {},
   "outputs": [],
   "source": [
    "# ── Path-Fix for Imports ───────────────────────────────────────────────────\n",
    "import sys\n",
    "from pathlib import Path\n",
    "# Prepend parent directory (repo root) to sys.path\n",
    "sys.path.insert(0, str(Path().resolve().parent))\n",
    "\n",
    "# ── Standard Imports ───────────────────────────────────────────────────────────\n",
    "import pandas as pd\n",
    "import numpy as np\n",
    "import networkx as nx\n",
    "import matplotlib.pyplot as plt\n",
    "import seaborn as sns\n",
    "from scripts.graph_utils import load_clean_df, build_unweighted_graph, build_weighted_graph\n",
    "\n",
    "sns.set(style=\"whitegrid\")"
   ]
  },
  {
   "cell_type": "markdown",
   "id": "e865b9ef",
   "metadata": {},
   "source": [
    "## Analysis goes here…"
   ]
  }
 ],
 "metadata": {
  "language_info": {
   "name": "python"
  }
 },
 "nbformat": 4,
 "nbformat_minor": 5
}
