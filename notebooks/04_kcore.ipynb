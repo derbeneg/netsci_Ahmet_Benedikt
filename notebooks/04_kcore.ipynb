{
 "cells": [
  {
   "cell_type": "markdown",
   "id": "9b2b73c0",
   "metadata": {},
   "source": [
    "# 04 k-Core Decomposition"
   ]
  },
  {
   "cell_type": "code",
   "execution_count": null,
   "id": "fc0364d7",
   "metadata": {},
   "outputs": [],
   "source": [
    "import pandas as pd\n",
    "import networkx as nx\n",
    "import matplotlib.pyplot as plt\n",
    "import seaborn as sns\n",
    "from scripts.graph_utils import load_clean_df, build_unweighted_graph, build_weighted_graph\n",
    "\n",
    "sns.set(style=\"whitegrid\")\n"
   ]
  },
  {
   "cell_type": "markdown",
   "id": "f22f19c6",
   "metadata": {},
   "source": [
    "## Analysis goes here…"
   ]
  }
 ],
 "metadata": {},
 "nbformat": 4,
 "nbformat_minor": 5
}
