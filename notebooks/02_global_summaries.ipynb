{
 "cells": [
  {
   "cell_type": "markdown",
   "id": "f988d475",
   "metadata": {},
   "source": [
    "# 02 Global Network Summaries"
   ]
  },
  {
   "cell_type": "code",
   "execution_count": null,
   "id": "6ae17f56",
   "metadata": {},
   "outputs": [],
   "source": [
    "# ── Path-Fix for Imports ───────────────────────────────────────────────────\n",
    "import sys\n",
    "from pathlib import Path\n",
    "# Prepend parent directory (repo root) to sys.path\n",
    "sys.path.insert(0, str(Path().resolve().parent))\n",
    "\n",
    "# ── Standard Imports ───────────────────────────────────────────────────────────\n",
    "import pandas as pd\n",
    "import numpy as np\n",
    "import networkx as nx\n",
    "import matplotlib.pyplot as plt\n",
    "import seaborn as sns\n",
    "from scripts.graph_utils import load_clean_df, build_unweighted_graph, build_weighted_graph\n",
    "\n",
    "sns.set(style=\"whitegrid\")"
   ]
  },
  {
   "cell_type": "markdown",
   "id": "ba71a1fb",
   "metadata": {},
   "source": [
    "## Analysis goes here…"
   ]
  }
 ],
 "metadata": {
  "language_info": {
   "name": "python"
  }
 },
 "nbformat": 4,
 "nbformat_minor": 5
}
