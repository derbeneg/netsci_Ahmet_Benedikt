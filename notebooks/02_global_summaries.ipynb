{
 "cells": [
  {
   "cell_type": "markdown",
   "id": "f988d475",
   "metadata": {},
   "source": [
    "# 02 Global Network Summaries"
   ]
  },
  {
   "cell_type": "code",
   "execution_count": 4,
   "id": "6ae17f56",
   "metadata": {},
   "outputs": [],
   "source": [
    "# ── Path-Fix for Imports ───────────────────────────────────────────────────\n",
    "import sys\n",
    "from pathlib import Path\n",
    "# Prepend parent directory (repo root) to sys.path\n",
    "sys.path.insert(0, str(Path().resolve().parent))\n",
    "\n",
    "# ── Standard Imports ───────────────────────────────────────────────────────────\n",
    "import pandas as pd\n",
    "import numpy as np\n",
    "import networkx as nx\n",
    "import matplotlib.pyplot as plt\n",
    "import seaborn as sns\n",
    "from scripts.graph_utils import load_clean_df, build_unweighted_graph, build_weighted_graph\n",
    "\n",
    "sns.set(style=\"whitegrid\")"
   ]
  },
  {
   "cell_type": "markdown",
   "id": "ba71a1fb",
   "metadata": {},
   "source": [
    "## Analysis goes here…"
   ]
  },
  {
   "cell_type": "code",
   "execution_count": 5,
   "id": "cabba5aa",
   "metadata": {},
   "outputs": [],
   "source": [
    "THRESHOLD  = 0\n",
    "START_DATE = \"2023-04-14\"\n",
    "END_DATE   = \"2023-05-31\"\n",
    "USE_CACHE  = True"
   ]
  },
  {
   "cell_type": "code",
   "execution_count": 6,
   "id": "dec1dcbc",
   "metadata": {},
   "outputs": [
    {
     "name": "stdout",
     "output_type": "stream",
     "text": [
      "Total nodes: 215,741\n",
      "Total edges: 426,954\n",
      "Density: 9.17e-06\n"
     ]
    }
   ],
   "source": [
    "# Load Graph (Unweighted)\n",
    "df = load_clean_df(\n",
    "    threshold=THRESHOLD,\n",
    "    start_date=START_DATE,\n",
    "    end_date=END_DATE\n",
    ")\n",
    "G = build_unweighted_graph(\n",
    "    df,\n",
    "    threshold=THRESHOLD,\n",
    "    start_date=START_DATE,\n",
    "    end_date=END_DATE,\n",
    "    use_cache=USE_CACHE\n",
    ")\n",
    "\n",
    "print(f\"Total nodes: {G.number_of_nodes():,}\")\n",
    "print(f\"Total edges: {G.number_of_edges():,}\")\n",
    "print(f\"Density: {nx.density(G):.2e}\")"
   ]
  },
  {
   "cell_type": "code",
   "execution_count": 8,
   "id": "493de0d1",
   "metadata": {},
   "outputs": [
    {
     "name": "stdout",
     "output_type": "stream",
     "text": [
      "# Weakly CC: 8; Giant WCC size: 215,727\n",
      "# Strongly CC: 97852; Giant SCC size: 117,717\n"
     ]
    }
   ],
   "source": [
    "# Connected Components\n",
    "\n",
    "# Weakly connected components\n",
    "wcc = list(nx.weakly_connected_components(G))\n",
    "wcc_sizes = np.array([len(c) for c in wcc])\n",
    "\n",
    "# Strongly connected components\n",
    "scc = list(nx.strongly_connected_components(G))\n",
    "scc_sizes = np.array([len(c) for c in scc])\n",
    "\n",
    "print(f\"# Weakly CC: {len(wcc)}; Giant WCC size: {wcc_sizes.max():,}\")\n",
    "print(f\"# Strongly CC: {len(scc)}; Giant SCC size: {scc_sizes.max():,}\")\n",
    "\n",
    "# Extract giant WCC and SCC\n",
    "giant_wcc = max(wcc, key=len)\n",
    "core_scc = max(scc, key=len)\n"
   ]
  },
  {
   "cell_type": "code",
   "execution_count": 11,
   "id": "2c7e2540",
   "metadata": {},
   "outputs": [
    {
     "name": "stderr",
     "output_type": "stream",
     "text": [
      "Sampling BFS: 100%|██████████| 500/500 [02:29<00:00,  3.34it/s]\n"
     ]
    },
    {
     "name": "stdout",
     "output_type": "stream",
     "text": [
      "Approx avg shortest path length (n=500 seeds): 3.20\n"
     ]
    }
   ],
   "source": [
    "# Approximate Giant WCC Metrics\n",
    "\n",
    "import random\n",
    "from tqdm import tqdm\n",
    "from networkx.algorithms.approximation import diameter as approx_diameter\n",
    "\n",
    "# Work on the undirected giant WCC\n",
    "gG = G.subgraph(giant_wcc).copy().to_undirected()\n",
    "\n",
    "# Sample BFS for average path length\n",
    "sample_size = 500\n",
    "seeds = random.sample(list(gG.nodes()), sample_size)\n",
    "\n",
    "all_dists = []\n",
    "for u in tqdm(seeds, desc=\"Sampling BFS\"):\n",
    "    all_dists.extend(nx.single_source_shortest_path_length(gG, u).values())\n",
    "\n",
    "approx_avg = sum(all_dists) / len(all_dists)\n",
    "print(f\"Approx avg shortest path length (n={sample_size} seeds): {approx_avg:.2f}\")"
   ]
  },
  {
   "cell_type": "code",
   "execution_count": 12,
   "id": "6aab1558",
   "metadata": {},
   "outputs": [
    {
     "name": "stdout",
     "output_type": "stream",
     "text": [
      "Approx diameter (double-sweep): 43\n",
      "Approx diameter (no bounds available): 43\n"
     ]
    }
   ],
   "source": [
    "# Approximate Diameter & Remaining Analyses\n",
    "from networkx.algorithms.approximation import diameter as approx_diameter\n",
    "\n",
    "# 1) Approximate diameter via double-sweep BFS\n",
    "u0 = seeds[0]\n",
    "lengths_u0 = nx.single_source_shortest_path_length(gG, u0)\n",
    "u1 = max(lengths_u0.items(), key=lambda item: item[1])[0]\n",
    "lengths_u1 = nx.single_source_shortest_path_length(gG, u1)\n",
    "diam_est = max(lengths_u1.values())\n",
    "print(f\"Approx diameter (double-sweep): {diam_est}\")\n",
    "\n",
    "# 2) Try bounds if supported\n",
    "try:\n",
    "    low, high = approx_diameter(gG, usebounds=True)\n",
    "    print(f\"Diameter bounds: [{low}, {high}]\")\n",
    "except TypeError:\n",
    "    diam_approx = approx_diameter(gG)\n",
    "    print(f\"Approx diameter (no bounds available): {diam_approx}\")"
   ]
  },
  {
   "cell_type": "code",
   "execution_count": 14,
   "id": "55f46005",
   "metadata": {},
   "outputs": [
    {
     "name": "stdout",
     "output_type": "stream",
     "text": [
      "Counter({2: 7, 215727: 1})\n"
     ]
    },
    {
     "data": {
      "image/png": "[encoded data removed]",
      "text/plain": [
       "<Figure size 640x480 with 1 Axes>"
      ]
     },
     "metadata": {},
     "output_type": "display_data"
    }
   ],
   "source": [
    "# 3) Component Size Distributions\n",
    "\n",
    "# Count exact sizes\n",
    "from collections import Counter\n",
    "wcc_counter = Counter(map(len, wcc))\n",
    "print(wcc_counter)\n",
    "# e.g. Counter({1: 7, 215727: 1})\n",
    "\n",
    "# Bar chart for those two values\n",
    "sizes, counts = zip(*sorted(wcc_counter.items()))\n",
    "plt.bar(sizes, counts, width=[0.5, 50000])\n",
    "plt.xscale('log')\n",
    "plt.yscale('log')\n",
    "plt.xlabel('Component size')\n",
    "plt.ylabel('Count')\n",
    "plt.title('WCC size distribution')\n",
    "plt.show()\n"
   ]
  },
  {
   "cell_type": "code",
   "execution_count": 16,
   "id": "a7a4f49d",
   "metadata": {},
   "outputs": [
    {
     "data": {
      "text/html": [
       "<div>\n",
       "<style scoped>\n",
       "    .dataframe tbody tr th:only-of-type {\n",
       "        vertical-align: middle;\n",
       "    }\n",
       "\n",
       "    .dataframe tbody tr th {\n",
       "        vertical-align: top;\n",
       "    }\n",
       "\n",
       "    .dataframe thead th {\n",
       "        text-align: right;\n",
       "    }\n",
       "</style>\n",
       "<table border=\"1\" class=\"dataframe\">\n",
       "  <thead>\n",
       "    <tr style=\"text-align: right;\">\n",
       "      <th></th>\n",
       "      <th>size</th>\n",
       "    </tr>\n",
       "  </thead>\n",
       "  <tbody>\n",
       "    <tr>\n",
       "      <th>IN</th>\n",
       "      <td>49</td>\n",
       "    </tr>\n",
       "    <tr>\n",
       "      <th>SCC</th>\n",
       "      <td>117717</td>\n",
       "    </tr>\n",
       "    <tr>\n",
       "      <th>OUT</th>\n",
       "      <td>97954</td>\n",
       "    </tr>\n",
       "    <tr>\n",
       "      <th>TUBES</th>\n",
       "      <td>117717</td>\n",
       "    </tr>\n",
       "    <tr>\n",
       "      <th>TENDRILS</th>\n",
       "      <td>7</td>\n",
       "    </tr>\n",
       "  </tbody>\n",
       "</table>\n",
       "</div>"
      ],
      "text/plain": [
       "            size\n",
       "IN            49\n",
       "SCC       117717\n",
       "OUT        97954\n",
       "TUBES     117717\n",
       "TENDRILS       7"
      ]
     },
     "execution_count": 16,
     "metadata": {},
     "output_type": "execute_result"
    }
   ],
   "source": [
    "# Fast Bow-Tie Decomposition via Multi-Source BFS\n",
    "from collections import deque\n",
    "\n",
    "def multi_source_reachable(G, sources, forward=True):\n",
    "    \"\"\"\n",
    "    Return the set of nodes reachable from any node in 'sources' via directed edges.\n",
    "    If forward=False, uses G.reverse() instead.\n",
    "    \"\"\"\n",
    "    if not forward:\n",
    "        G = G.reverse(copy=False)\n",
    "    visited = set(sources)\n",
    "    queue = deque(sources)\n",
    "    while queue:\n",
    "        u = queue.popleft()\n",
    "        for v in G.successors(u):\n",
    "            if v not in visited:\n",
    "                visited.add(v)\n",
    "                queue.append(v)\n",
    "    return visited\n",
    "\n",
    "# we already have:\n",
    "#   giant_wcc = max(nx.weakly_connected_components(G), key=len)\n",
    "#   core_scc   = max(nx.strongly_connected_components(G),    key=len)\n",
    "\n",
    "# Compute IN (nodes that can reach the SCC) and OUT (nodes the SCC can reach)\n",
    "full_in  = multi_source_reachable(G, core_scc, forward=False)\n",
    "full_out = multi_source_reachable(G, core_scc, forward=True)\n",
    "\n",
    "IN       = full_in  - core_scc\n",
    "OUT      = full_out - core_scc\n",
    "TUBES    = full_in & full_out\n",
    "TENDRILS = set(giant_wcc) - core_scc - IN - OUT - TUBES\n",
    "\n",
    "bowtie = {\n",
    "    'IN':       len(IN),\n",
    "    'SCC':      len(core_scc),\n",
    "    'OUT':      len(OUT),\n",
    "    'TUBES':    len(TUBES),\n",
    "    'TENDRILS': len(TENDRILS)\n",
    "}\n",
    "pd.DataFrame.from_dict(bowtie, orient='index', columns=['size'])\n"
   ]
  },
  {
   "cell_type": "markdown",
   "id": "46894d2b",
   "metadata": {},
   "source": [
    "## Summary of Global Network Structure\n",
    "\n",
    "**1. Basic Network Metrics**  \n",
    "- **Nodes:** 215 741  \n",
    "- **Edges:** 426 954  \n",
    "- **Density:** 9.17 × 10⁻⁶ (ultra‐sparse)  \n",
    "\n",
    "**2. Connected Components**  \n",
    "- **Weakly Connected:** 8 total components  \n",
    "  - **Giant WCC:** 215 727 nodes (> 99.99 %)  \n",
    "- **Strongly Connected:** 97 852 total components  \n",
    "  - **Giant SCC:** 117 717 nodes (~ 55 %)  \n",
    "\n",
    "**3. Small‐World Properties**  \n",
    "- **Approx. Avg. Shortest Path:** 3.20 hops (sampled over 500 seeds)  \n",
    "- **Approx. Diameter:** 43 (double‐sweep BFS)  \n",
    "\n",
    "**4. Component‐Size Distributions**  \n",
    "- **WCC:** one massive bin at ~2×10⁵ nodes and a few singletons  \n",
    "- **SCC:** one core at ~1.2×10⁵ nodes plus many singletons  \n",
    "\n",
    "**5. Bow-Tie Decomposition**\n",
    "\n",
    "| Region     | Size    | What it Means                                                                                       |\n",
    "|:-----------|--------:|:----------------------------------------------------------------------------------------------------|\n",
    "| **IN**     | 49      | Wallets that **feed into** the core but never receive back (initial liquidity sources/bridges).     |\n",
    "| **SCC**    | 117 717 | The **strongly‐connected core** (exchanges, DEX routers)—every node can reach every other.          |\n",
    "| **OUT**    | 97 954  | Wallets that **receive from** the core but never send back (speculators cashing out).               |\n",
    "| **TUBES**  | 117 717 | Nodes both in IN and OUT – here exactly the SCC itself (no extra tube nodes beyond the core).        |\n",
    "| **TENDRILS** | 7     | Fringe wallets in the giant WCC that are neither feeding in nor out—tiny isolated periphery.        |\n",
    "\n",
    "---\n",
    "\n",
    "### 🔍 Interpretation\n",
    "\n",
    "- The PEPE network is dominated by one giant weak component and a massive reciprocal core.  \n",
    "- Small‐world behavior (avg. path ≈ 3, diameter ≈ 43) emerges despite extreme sparsity.  \n",
    "- A handful of “feeder” addresses kick liquidity into a large, highly interwoven exchange/DEX core.  \n",
    "- That core then disperses tokens out to nearly 100 k speculator wallets, with very few alternate pathways.  \n",
    "- The minimal tendrils highlight how almost every wallet is either in the core, feeding in, or feeding out—underscoring the classic bow-tie shape in a meme‐coin frenzy.\n"
   ]
  },
  {
   "cell_type": "code",
   "execution_count": null,
   "id": "23343bec",
   "metadata": {},
   "outputs": [],
   "source": []
  }
 ],
 "metadata": {
  "kernelspec": {
   "display_name": ".venv",
   "language": "python",
   "name": "python3"
  },
  "language_info": {
   "codemirror_mode": {
    "name": "ipython",
    "version": 3
   },
   "file_extension": ".py",
   "mimetype": "text/x-python",
   "name": "python",
   "nbconvert_exporter": "python",
   "pygments_lexer": "ipython3",
   "version": "3.10.0"
  }
 },
 "nbformat": 4,
 "nbformat_minor": 5
}
