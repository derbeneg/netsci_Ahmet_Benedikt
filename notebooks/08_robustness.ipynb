{
 "cells": [
  {
   "cell_type": "markdown",
   "id": "54b3cfcc",
   "metadata": {},
   "source": [
    "# 08 Robustness / Percolation"
   ]
  },
  {
   "cell_type": "code",
   "execution_count": null,
   "id": "56641090",
   "metadata": {},
   "outputs": [],
   "source": [
    "import pandas as pd\n",
    "import networkx as nx\n",
    "import matplotlib.pyplot as plt\n",
    "import seaborn as sns\n",
    "from scripts.graph_utils import load_clean_df, build_unweighted_graph, build_weighted_graph\n",
    "\n",
    "sns.set(style=\"whitegrid\")\n"
   ]
  },
  {
   "cell_type": "markdown",
   "id": "47791b5f",
   "metadata": {},
   "source": [
    "## Analysis goes here…"
   ]
  }
 ],
 "metadata": {},
 "nbformat": 4,
 "nbformat_minor": 5
}
