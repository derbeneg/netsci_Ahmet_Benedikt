{
 "cells": [
  {
   "cell_type": "markdown",
   "id": "b851be53",
   "metadata": {},
   "source": [
    "# 05 Clustering & Assortativity"
   ]
  },
  {
   "cell_type": "code",
   "execution_count": null,
   "id": "5d6fc6e1",
   "metadata": {},
   "outputs": [],
   "source": [
    "import pandas as pd\n",
    "import networkx as nx\n",
    "import matplotlib.pyplot as plt\n",
    "import seaborn as sns\n",
    "from scripts.graph_utils import load_clean_df, build_unweighted_graph, build_weighted_graph\n",
    "\n",
    "sns.set(style=\"whitegrid\")\n"
   ]
  },
  {
   "cell_type": "markdown",
   "id": "eed22762",
   "metadata": {},
   "source": [
    "## Analysis goes here…"
   ]
  }
 ],
 "metadata": {},
 "nbformat": 4,
 "nbformat_minor": 5
}
