{
 "cells": [
  {
   "cell_type": "markdown",
   "id": "53ef176b",
   "metadata": {},
   "source": [
    "# 05 Clustering & Assortativity"
   ]
  },
  {
   "cell_type": "code",
   "execution_count": null,
   "id": "3d5e625d",
   "metadata": {},
   "outputs": [],
   "source": [
    "# ── Path-Fix for Imports ───────────────────────────────────────────────────\n",
    "import sys\n",
    "from pathlib import Path\n",
    "# Prepend parent directory (repo root) to sys.path\n",
    "sys.path.insert(0, str(Path().resolve().parent))\n",
    "\n",
    "# ── Standard Imports ───────────────────────────────────────────────────────────\n",
    "import pandas as pd\n",
    "import networkx as nx\n",
    "import matplotlib.pyplot as plt\n",
    "import seaborn as sns\n",
    "from scripts.graph_utils import load_clean_df, build_unweighted_graph, build_weighted_graph\n",
    "\n",
    "sns.set(style=\"whitegrid\")"
   ]
  },
  {
   "cell_type": "markdown",
   "id": "4bab3a9e",
   "metadata": {},
   "source": [
    "## Analysis goes here…"
   ]
  }
 ],
 "metadata": {},
 "nbformat": 4,
 "nbformat_minor": 5
}
