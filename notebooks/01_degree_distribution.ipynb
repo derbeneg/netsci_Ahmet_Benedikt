{
 "cells": [
  {
   "cell_type": "markdown",
   "id": "9c402d49",
   "metadata": {},
   "source": [
    "# 01 Degree Distribution"
   ]
  },
  {
   "cell_type": "code",
   "execution_count": 3,
   "id": "8cf2ee78",
   "metadata": {},
   "outputs": [],
   "source": [
    "# ── Path-Fix for Imports ───────────────────────────────────────────────────\n",
    "import sys\n",
    "from pathlib import Path\n",
    "# Prepend parent directory (repo root) to sys.path\n",
    "sys.path.insert(0, str(Path().resolve().parent))\n",
    "\n",
    "# ── Standard Imports ───────────────────────────────────────────────────────────\n",
    "import pandas as pd\n",
    "import networkx as nx\n",
    "import matplotlib.pyplot as plt\n",
    "import seaborn as sns\n",
    "from scripts.graph_utils import load_clean_df, build_unweighted_graph, build_weighted_graph\n",
    "\n",
    "sns.set(style=\"whitegrid\")"
   ]
  },
  {
   "cell_type": "markdown",
   "id": "4a8f6cb7",
   "metadata": {},
   "source": [
    "## Analysis goes here…"
   ]
  }
 ],
 "metadata": {
  "language_info": {
   "name": "python"
  }
 },
 "nbformat": 4,
 "nbformat_minor": 5
}
