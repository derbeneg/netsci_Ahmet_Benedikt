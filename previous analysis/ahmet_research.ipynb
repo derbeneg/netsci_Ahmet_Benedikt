{
  "cells": [
    {
      "cell_type": "code",
      "execution_count": 2,
      "metadata": {
        "id": "3cATiNw1kxlC"
      },
      "outputs": [],
      "source": [
        "# Gerekli kütüphaneleri içe aktaralım\n",
        "import pandas as pd\n",
        "import numpy as np\n",
        "import matplotlib.pyplot as plt\n",
        "import seaborn as sns\n",
        "import networkx as nx\n",
        "from collections import Counter\n",
        "import datetime\n",
        "import warnings\n",
        "import os\n",
        "import time\n",
        "\n",
        "# Matplotlib ve seaborn ayarlarını yapalım\n",
        "plt.style.use('ggplot')\n",
        "sns.set_theme(style=\"whitegrid\")\n",
        "warnings.filterwarnings('ignore')\n",
        "\n",
        "# Matplotlib figürlerinin boyutunu ayarlayalım\n",
        "plt.rcParams['figure.figsize'] = [12, 8]\n",
        "plt.rcParams['font.size'] = 12\n"
      ]
    },
    {
      "cell_type": "code",
      "execution_count": 3,
      "metadata": {
        "colab": {
          "base_uri": "https://localhost:8080/"
        },
        "id": "c0edZlPhk4GC",
        "outputId": "bceeaf41-1151-4f63-e59a-bd7934a043ae"
      },
      "outputs": [],
      "source": [
        "data_path = '../data/pepe-transfers.csv'"
      ]
    },
    {
      "cell_type": "code",
      "execution_count": 4,
      "metadata": {
        "colab": {
          "base_uri": "https://localhost:8080/",
          "height": 331
        },
        "id": "esv9wo1AlIkL",
        "outputId": "da0f494c-0239-4321-8c99-4abb80286fb8"
      },
      "outputs": [
        {
          "name": "stdout",
          "output_type": "stream",
          "text": [
            "Sample:\n"
          ]
        },
        {
          "data": {
            "text/html": [
              "<div>\n",
              "<style scoped>\n",
              "    .dataframe tbody tr th:only-of-type {\n",
              "        vertical-align: middle;\n",
              "    }\n",
              "\n",
              "    .dataframe tbody tr th {\n",
              "        vertical-align: top;\n",
              "    }\n",
              "\n",
              "    .dataframe thead th {\n",
              "        text-align: right;\n",
              "    }\n",
              "</style>\n",
              "<table border=\"1\" class=\"dataframe\">\n",
              "  <thead>\n",
              "    <tr style=\"text-align: right;\">\n",
              "      <th></th>\n",
              "      <th>block_number</th>\n",
              "      <th>timestamp</th>\n",
              "      <th>date</th>\n",
              "      <th>from_address</th>\n",
              "      <th>to_address</th>\n",
              "      <th>value_token</th>\n",
              "      <th>value_base</th>\n",
              "      <th>transaction_index</th>\n",
              "      <th>log_index</th>\n",
              "      <th>transaction_hash</th>\n",
              "    </tr>\n",
              "  </thead>\n",
              "  <tbody>\n",
              "    <tr>\n",
              "      <th>0</th>\n",
              "      <td>17050363</td>\n",
              "      <td>1681536587</td>\n",
              "      <td>2023-Apr-15T07:29:47Z</td>\n",
              "      <td>0xa43fe16908251ee70ef74718545e4fe6c5ccec9f</td>\n",
              "      <td>0xa43fe16908251ee70ef74718545e4fe6c5ccec9f</td>\n",
              "      <td>6.044788e+11</td>\n",
              "      <td>604478780314562436526661163632</td>\n",
              "      <td>59</td>\n",
              "      <td>162</td>\n",
              "      <td>0xc321dac6609df6c3baf3512be31a967d93397a79c597...</td>\n",
              "    </tr>\n",
              "    <tr>\n",
              "      <th>1</th>\n",
              "      <td>17050354</td>\n",
              "      <td>1681536479</td>\n",
              "      <td>2023-Apr-15T07:27:59Z</td>\n",
              "      <td>0xa43fe16908251ee70ef74718545e4fe6c5ccec9f</td>\n",
              "      <td>0xa43fe16908251ee70ef74718545e4fe6c5ccec9f</td>\n",
              "      <td>1.311359e+11</td>\n",
              "      <td>131135861213042893154914604963</td>\n",
              "      <td>70</td>\n",
              "      <td>287</td>\n",
              "      <td>0xb745bfba489c1abe20a5fbc72a655fa5ba18ded2ce84...</td>\n",
              "    </tr>\n",
              "    <tr>\n",
              "      <th>2</th>\n",
              "      <td>17050352</td>\n",
              "      <td>1681536455</td>\n",
              "      <td>2023-Apr-15T07:27:35Z</td>\n",
              "      <td>0x4a5a7331da84d3834c030a9b8d4f3d687a3b788b</td>\n",
              "      <td>0x4a5a7331da84d3834c030a9b8d4f3d687a3b788b</td>\n",
              "      <td>3.717649e+11</td>\n",
              "      <td>371764915766751234543927965993</td>\n",
              "      <td>115</td>\n",
              "      <td>262</td>\n",
              "      <td>0x2036f8a047ca64006862e99049150f14ccacfb4e3a73...</td>\n",
              "    </tr>\n",
              "    <tr>\n",
              "      <th>3</th>\n",
              "      <td>17050352</td>\n",
              "      <td>1681536455</td>\n",
              "      <td>2023-Apr-15T07:27:35Z</td>\n",
              "      <td>0xa43fe16908251ee70ef74718545e4fe6c5ccec9f</td>\n",
              "      <td>0xa43fe16908251ee70ef74718545e4fe6c5ccec9f</td>\n",
              "      <td>3.717649e+11</td>\n",
              "      <td>371764915766751234543927965993</td>\n",
              "      <td>115</td>\n",
              "      <td>257</td>\n",
              "      <td>0x2036f8a047ca64006862e99049150f14ccacfb4e3a73...</td>\n",
              "    </tr>\n",
              "    <tr>\n",
              "      <th>4</th>\n",
              "      <td>17050350</td>\n",
              "      <td>1681536431</td>\n",
              "      <td>2023-Apr-15T07:27:11Z</td>\n",
              "      <td>0xa43fe16908251ee70ef74718545e4fe6c5ccec9f</td>\n",
              "      <td>0xa43fe16908251ee70ef74718545e4fe6c5ccec9f</td>\n",
              "      <td>7.920714e+10</td>\n",
              "      <td>79207141801681976718549271230</td>\n",
              "      <td>126</td>\n",
              "      <td>323</td>\n",
              "      <td>0x0ae21fcaf097b54cc2049777df2018e65822eea74709...</td>\n",
              "    </tr>\n",
              "  </tbody>\n",
              "</table>\n",
              "</div>"
            ],
            "text/plain": [
              "   block_number   timestamp                   date  \\\n",
              "0      17050363  1681536587  2023-Apr-15T07:29:47Z   \n",
              "1      17050354  1681536479  2023-Apr-15T07:27:59Z   \n",
              "2      17050352  1681536455  2023-Apr-15T07:27:35Z   \n",
              "3      17050352  1681536455  2023-Apr-15T07:27:35Z   \n",
              "4      17050350  1681536431  2023-Apr-15T07:27:11Z   \n",
              "\n",
              "                                 from_address  \\\n",
              "0  0xa43fe16908251ee70ef74718545e4fe6c5ccec9f   \n",
              "1  0xa43fe16908251ee70ef74718545e4fe6c5ccec9f   \n",
              "2  0x4a5a7331da84d3834c030a9b8d4f3d687a3b788b   \n",
              "3  0xa43fe16908251ee70ef74718545e4fe6c5ccec9f   \n",
              "4  0xa43fe16908251ee70ef74718545e4fe6c5ccec9f   \n",
              "\n",
              "                                   to_address   value_token  \\\n",
              "0  0xa43fe16908251ee70ef74718545e4fe6c5ccec9f  6.044788e+11   \n",
              "1  0xa43fe16908251ee70ef74718545e4fe6c5ccec9f  1.311359e+11   \n",
              "2  0x4a5a7331da84d3834c030a9b8d4f3d687a3b788b  3.717649e+11   \n",
              "3  0xa43fe16908251ee70ef74718545e4fe6c5ccec9f  3.717649e+11   \n",
              "4  0xa43fe16908251ee70ef74718545e4fe6c5ccec9f  7.920714e+10   \n",
              "\n",
              "                       value_base  transaction_index  log_index  \\\n",
              "0  604478780314562436526661163632                 59        162   \n",
              "1  131135861213042893154914604963                 70        287   \n",
              "2  371764915766751234543927965993                115        262   \n",
              "3  371764915766751234543927965993                115        257   \n",
              "4   79207141801681976718549271230                126        323   \n",
              "\n",
              "                                    transaction_hash  \n",
              "0  0xc321dac6609df6c3baf3512be31a967d93397a79c597...  \n",
              "1  0xb745bfba489c1abe20a5fbc72a655fa5ba18ded2ce84...  \n",
              "2  0x2036f8a047ca64006862e99049150f14ccacfb4e3a73...  \n",
              "3  0x2036f8a047ca64006862e99049150f14ccacfb4e3a73...  \n",
              "4  0x0ae21fcaf097b54cc2049777df2018e65822eea74709...  "
            ]
          },
          "execution_count": 4,
          "metadata": {},
          "output_type": "execute_result"
        }
      ],
      "source": [
        "sample_df = pd.read_csv(data_path, nrows=5)\n",
        "print(\"Sample:\")\n",
        "sample_df.head()"
      ]
    },
    {
      "cell_type": "code",
      "execution_count": 5,
      "metadata": {
        "colab": {
          "base_uri": "https://localhost:8080/",
          "height": 416
        },
        "id": "BnZhJs3hlPHM",
        "outputId": "a286bb1f-c860-4f5c-d3a9-86a7ceac9c7e"
      },
      "outputs": [
        {
          "name": "stdout",
          "output_type": "stream",
          "text": [
            "Missing values per column:\n",
            "Date range: 2023-04-14 16:51:35+00:00 to 2023-05-08 10:26:35+00:00\n",
            "Total days: 23\n",
            "Types:\n"
          ]
        },
        {
          "data": {
            "text/plain": [
              "block_number           int64\n",
              "timestamp              int64\n",
              "date                  object\n",
              "from_address          object\n",
              "to_address            object\n",
              "value_token          float64\n",
              "value_base            object\n",
              "transaction_index      int64\n",
              "log_index              int64\n",
              "transaction_hash      object\n",
              "dtype: object"
            ]
          },
          "execution_count": 5,
          "metadata": {},
          "output_type": "execute_result"
        }
      ],
      "source": [
        "df = pd.read_csv(data_path)\n",
        "print(\"Missing values per column:\")\n",
        "df.isna().sum()\n",
        "\n",
        "# %% [markdown]\n",
        "# Now let's convert the timestamp to a proper datetime format and explore the date range of our dataset.\n",
        "\n",
        "# %%\n",
        "# Convert timestamp to datetime\n",
        "df['date'] = pd.to_datetime(df['date'])\n",
        "\n",
        "# Check time range\n",
        "print(f\"Date range: {df['date'].min()} to {df['date'].max()}\")\n",
        "print(f\"Total days: {(df['date'].max() - df['date'].min()).days}\")\n",
        "\n",
        "print(\"Types:\")\n",
        "sample_df.dtypes"
      ]
    },
    {
      "cell_type": "code",
      "execution_count": 6,
      "metadata": {
        "colab": {
          "base_uri": "https://localhost:8080/"
        },
        "id": "2rfdIj7alR6J",
        "outputId": "ce483d8e-2f8c-4b34-a35d-c9abc2e50db1"
      },
      "outputs": [
        {
          "name": "stdout",
          "output_type": "stream",
          "text": [
            "Missing values per column:\n",
            "Date range: 2023-04-14 16:51:35+00:00 to 2023-05-08 10:26:35+00:00\n",
            "Total days: 23\n"
          ]
        }
      ],
      "source": [
        "# %%\n",
        "# Check for missing values\n",
        "\n",
        "df = pd.read_csv(data_path)\n",
        "print(\"Missing values per column:\")\n",
        "df.isna().sum()\n",
        "\n",
        "# %% [markdown]\n",
        "# Now let's convert the timestamp to a proper datetime format and explore the date range of our dataset.\n",
        "\n",
        "# %%\n",
        "# Convert timestamp to datetime\n",
        "df['date'] = pd.to_datetime(df['date'])\n",
        "\n",
        "# Check time range\n",
        "print(f\"Date range: {df['date'].min()} to {df['date'].max()}\")\n",
        "print(f\"Total days: {(df['date'].max() - df['date'].min()).days}\")"
      ]
    },
    {
      "cell_type": "code",
      "execution_count": 7,
      "metadata": {
        "colab": {
          "base_uri": "https://localhost:8080/",
          "height": 591
        },
        "id": "Mglsv0CKRDIb",
        "outputId": "a9b4a2f6-f946-4267-82ef-77ae2fd9197d"
      },
      "outputs": [
        {
          "name": "stdout",
          "output_type": "stream",
          "text": [
            "Token transfer statistics:\n"
          ]
        },
        {
          "data": {
            "image/png": "[encoded data removed]",
            "text/plain": [
              "<Figure size 1200x600 with 1 Axes>"
            ]
          },
          "metadata": {},
          "output_type": "display_data"
        }
      ],
      "source": [
        "# Basic statistics of token transfers\n",
        "print(\"Token transfer statistics:\")\n",
        "df['value_token'].describe()\n",
        "\n",
        "# %% [markdown]\n",
        "# Let's check the distribution of token values to understand the transfer patterns.\n",
        "\n",
        "# %%\n",
        "# Plot histogram of token values (log scale)\n",
        "plt.figure(figsize=(12, 6))\n",
        "df['value_token'].apply(lambda x: np.log10(x) if x > 0 else 0).hist(bins=50)\n",
        "plt.title('Distribution of Token Transfers (Log10 Scale)')\n",
        "plt.xlabel('Log10(Token Value)')\n",
        "plt.ylabel('Frequency')\n",
        "plt.grid(True, alpha=0.3)\n",
        "plt.show()"
      ]
    },
    {
      "cell_type": "code",
      "execution_count": 8,
      "metadata": {
        "colab": {
          "base_uri": "https://localhost:8080/",
          "height": 300
        },
        "id": "fvSeTMj6UK8X",
        "outputId": "a3b53a07-4361-4e5b-cd89-5170a75defd1"
      },
      "outputs": [
        {
          "data": {
            "text/html": [
              "<div>\n",
              "<style scoped>\n",
              "    .dataframe tbody tr th:only-of-type {\n",
              "        vertical-align: middle;\n",
              "    }\n",
              "\n",
              "    .dataframe tbody tr th {\n",
              "        vertical-align: top;\n",
              "    }\n",
              "\n",
              "    .dataframe thead th {\n",
              "        text-align: right;\n",
              "    }\n",
              "</style>\n",
              "<table border=\"1\" class=\"dataframe\">\n",
              "  <thead>\n",
              "    <tr style=\"text-align: right;\">\n",
              "      <th></th>\n",
              "      <th>block_number</th>\n",
              "      <th>timestamp</th>\n",
              "      <th>value_token</th>\n",
              "      <th>transaction_index</th>\n",
              "      <th>log_index</th>\n",
              "    </tr>\n",
              "  </thead>\n",
              "  <tbody>\n",
              "    <tr>\n",
              "      <th>count</th>\n",
              "      <td>8.009550e+05</td>\n",
              "      <td>8.009550e+05</td>\n",
              "      <td>8.009550e+05</td>\n",
              "      <td>800955.000000</td>\n",
              "      <td>800955.000000</td>\n",
              "    </tr>\n",
              "    <tr>\n",
              "      <th>mean</th>\n",
              "      <td>1.714966e+07</td>\n",
              "      <td>1.682746e+09</td>\n",
              "      <td>1.318891e+10</td>\n",
              "      <td>80.442673</td>\n",
              "      <td>202.735466</td>\n",
              "    </tr>\n",
              "    <tr>\n",
              "      <th>std</th>\n",
              "      <td>4.676130e+04</td>\n",
              "      <td>5.680853e+05</td>\n",
              "      <td>6.634689e+11</td>\n",
              "      <td>60.132155</td>\n",
              "      <td>138.733431</td>\n",
              "    </tr>\n",
              "    <tr>\n",
              "      <th>min</th>\n",
              "      <td>1.704610e+07</td>\n",
              "      <td>1.681484e+09</td>\n",
              "      <td>0.000000e+00</td>\n",
              "      <td>0.000000</td>\n",
              "      <td>0.000000</td>\n",
              "    </tr>\n",
              "    <tr>\n",
              "      <th>25%</th>\n",
              "      <td>1.710312e+07</td>\n",
              "      <td>1.682181e+09</td>\n",
              "      <td>1.873315e+08</td>\n",
              "      <td>31.000000</td>\n",
              "      <td>101.000000</td>\n",
              "    </tr>\n",
              "    <tr>\n",
              "      <th>50%</th>\n",
              "      <td>1.716388e+07</td>\n",
              "      <td>1.682919e+09</td>\n",
              "      <td>8.590582e+08</td>\n",
              "      <td>79.000000</td>\n",
              "      <td>192.000000</td>\n",
              "    </tr>\n",
              "    <tr>\n",
              "      <th>75%</th>\n",
              "      <td>1.719161e+07</td>\n",
              "      <td>1.683255e+09</td>\n",
              "      <td>5.337008e+09</td>\n",
              "      <td>115.000000</td>\n",
              "      <td>281.000000</td>\n",
              "    </tr>\n",
              "    <tr>\n",
              "      <th>max</th>\n",
              "      <td>1.721458e+07</td>\n",
              "      <td>1.683534e+09</td>\n",
              "      <td>4.206900e+14</td>\n",
              "      <td>1016.000000</td>\n",
              "      <td>6923.000000</td>\n",
              "    </tr>\n",
              "  </tbody>\n",
              "</table>\n",
              "</div>"
            ],
            "text/plain": [
              "       block_number     timestamp   value_token  transaction_index  \\\n",
              "count  8.009550e+05  8.009550e+05  8.009550e+05      800955.000000   \n",
              "mean   1.714966e+07  1.682746e+09  1.318891e+10          80.442673   \n",
              "std    4.676130e+04  5.680853e+05  6.634689e+11          60.132155   \n",
              "min    1.704610e+07  1.681484e+09  0.000000e+00           0.000000   \n",
              "25%    1.710312e+07  1.682181e+09  1.873315e+08          31.000000   \n",
              "50%    1.716388e+07  1.682919e+09  8.590582e+08          79.000000   \n",
              "75%    1.719161e+07  1.683255e+09  5.337008e+09         115.000000   \n",
              "max    1.721458e+07  1.683534e+09  4.206900e+14        1016.000000   \n",
              "\n",
              "           log_index  \n",
              "count  800955.000000  \n",
              "mean      202.735466  \n",
              "std       138.733431  \n",
              "min         0.000000  \n",
              "25%       101.000000  \n",
              "50%       192.000000  \n",
              "75%       281.000000  \n",
              "max      6923.000000  "
            ]
          },
          "execution_count": 8,
          "metadata": {},
          "output_type": "execute_result"
        }
      ],
      "source": [
        "df.describe()"
      ]
    },
    {
      "cell_type": "code",
      "execution_count": 25,
      "metadata": {
        "colab": {
          "base_uri": "https://localhost:8080/"
        },
        "id": "wm8fg4nERM2z",
        "outputId": "e8c077a6-9726-4a3d-88b3-30548e290b35"
      },
      "outputs": [
        {
          "name": "stdout",
          "output_type": "stream",
          "text": [
            "🔧 Building the network...\n",
            "→ Using weighted edges based on value_token\n",
            "✅ Added 88821 nodes and 88821 edges\n"
          ]
        }
      ],
      "source": [
        "# %%\n",
        "print(\"🔧 Building the network...\")\n",
        "\n",
        "# Create a directed graph\n",
        "G = nx.DiGraph()\n",
        "\n",
        "# Optional: add all unique nodes first (not strictly necessary)\n",
        "# You can skip this if you're adding edges anyway\n",
        "# G.add_nodes_from(pd.concat([df['from_address'], df['to_address']]).unique())\n",
        "\n",
        "# Choose mode: 'weighted' or 'unweighted'\n",
        "USE_WEIGHTS = True\n",
        "\n",
        "if USE_WEIGHTS:\n",
        "    print(\"→ Using weighted edges based on value_token\")\n",
        "    edge_weights = {}\n",
        "\n",
        "    for _, row in df.iterrows():\n",
        "        from_addr = row['from_address']\n",
        "        to_addr = row['to_address']\n",
        "        value = row['value_token']\n",
        "\n",
        "        key = (from_addr, to_addr)\n",
        "        edge_weights[key] = edge_weights.get(key, 0) + value\n",
        "\n",
        "    for (from_addr, to_addr), weight in edge_weights.items():\n",
        "        G.add_edge(from_addr, to_addr, weight=weight)\n",
        "\n",
        "else:\n",
        "    print(\"→ Using unweighted edges (multiple transfers count toward degree)\")\n",
        "    for _, row in df.iterrows():\n",
        "        from_addr = row['from_address']\n",
        "        to_addr = row['to_address']\n",
        "        G.add_edge(from_addr, to_addr)\n",
        "\n",
        "print(f\"✅ Added {G.number_of_nodes()} nodes and {G.number_of_edges()} edges\")"
      ]
    },
    {
      "cell_type": "code",
      "execution_count": 26,
      "metadata": {
        "colab": {
          "base_uri": "https://localhost:8080/"
        },
        "id": "M89tR-suRixI",
        "outputId": "b0d21487-f26b-46b6-ded4-0e677185d9f7"
      },
      "outputs": [
        {
          "name": "stdout",
          "output_type": "stream",
          "text": [
            "Network Summary:\n",
            "Number of nodes: 88821\n",
            "Number of edges: 88821\n",
            "Network density: 0.000011\n"
          ]
        }
      ],
      "source": [
        "# %%\n",
        "# Basic network statistics\n",
        "print(\"Network Summary:\")\n",
        "print(f\"Number of nodes: {G.number_of_nodes()}\")\n",
        "print(f\"Number of edges: {G.number_of_edges()}\")\n",
        "print(f\"Network density: {nx.density(G):.6f}\")"
      ]
    },
    {
      "cell_type": "code",
      "execution_count": 27,
      "metadata": {
        "colab": {
          "base_uri": "https://localhost:8080/"
        },
        "id": "Mk9tlEPnRmTV",
        "outputId": "012a7b01-9bcc-487f-e6e7-8d917c3dc851"
      },
      "outputs": [
        {
          "name": "stdout",
          "output_type": "stream",
          "text": [
            "Number of strongly connected components: 88821\n",
            "Size of largest strongly connected component: 1\n",
            "Number of weakly connected components: 88821\n",
            "Size of largest weakly connected component: 1\n"
          ]
        }
      ],
      "source": [
        "# Check if the graph is connected\n",
        "# For directed graphs, we should check strongly and weakly connected components\n",
        "scc = list(nx.strongly_connected_components(G))\n",
        "wcc = list(nx.weakly_connected_components(G))\n",
        "print(f\"Number of strongly connected components: {len(scc)}\")\n",
        "print(f\"Size of largest strongly connected component: {len(max(scc, key=len))}\")\n",
        "print(f\"Number of weakly connected components: {len(wcc)}\")\n",
        "print(f\"Size of largest weakly connected component: {len(max(wcc, key=len))}\")"
      ]
    },
    {
      "cell_type": "code",
      "execution_count": 28,
      "metadata": {
        "colab": {
          "base_uri": "https://localhost:8080/",
          "height": 53
        },
        "id": "S-6zhaHTRu9b",
        "outputId": "c56e163e-bec8-49bb-ab4e-cbcd66ca5d39"
      },
      "outputs": [
        {
          "data": {
            "image/png": "[encoded data removed]",
            "text/plain": [
              "<Figure size 1800x500 with 3 Axes>"
            ]
          },
          "metadata": {},
          "output_type": "display_data"
        }
      ],
      "source": [
        "# Activate inline plotting for Jupyter (important!)\n",
        "%matplotlib inline\n",
        "\n",
        "# Calculate degrees\n",
        "in_degrees = dict(G.in_degree())\n",
        "out_degrees = dict(G.out_degree())\n",
        "total_degrees = {node: in_degrees.get(node, 0) + out_degrees.get(node, 0) for node in G.nodes()}\n",
        "\n",
        "# Extract degree values\n",
        "in_vals = list(in_degrees.values())\n",
        "out_vals = list(out_degrees.values())\n",
        "total_vals = list(total_degrees.values())\n",
        "\n",
        "# Set plot style\n",
        "sns.set(style=\"whitegrid\")\n",
        "\n",
        "# Plot log-log degree distributions\n",
        "fig, axes = plt.subplots(1, 3, figsize=(18, 5))\n",
        "\n",
        "# Plot in-degree\n",
        "axes[0].hist(in_vals, bins=100, log=True)\n",
        "axes[0].set_title(\"In-Degree Distribution (log scale)\")\n",
        "axes[0].set_xlabel(\"In-Degree\")\n",
        "axes[0].set_ylabel(\"Frequency (log)\")\n",
        "\n",
        "# Plot out-degree\n",
        "axes[1].hist(out_vals, bins=100, log=True)\n",
        "axes[1].set_title(\"Out-Degree Distribution (log scale)\")\n",
        "axes[1].set_xlabel(\"Out-Degree\")\n",
        "\n",
        "# Plot total degree\n",
        "axes[2].hist(total_vals, bins=100, log=True)\n",
        "axes[2].set_title(\"Total Degree Distribution (log scale)\")\n",
        "axes[2].set_xlabel(\"Total Degree\")\n",
        "\n",
        "plt.tight_layout()\n",
        "plt.show()\n"
      ]
    },
    {
      "cell_type": "code",
      "execution_count": 29,
      "metadata": {
        "id": "hGc003o-R1z6"
      },
      "outputs": [],
      "source": [
        "# Function to compute CCDF (Complementary Cumulative Distribution Function)\n",
        "def ccdf(data):\n",
        "    counter = Counter(data)\n",
        "    probs = {}\n",
        "    for k, v in counter.items():\n",
        "        probs[k] = v / len(data)\n",
        "\n",
        "    # Sort unique values\n",
        "    unique_values = sorted(probs.keys())\n",
        "\n",
        "    # Calculate CCDF\n",
        "    ccdf_values = []\n",
        "    cumulative = 0\n",
        "    for value in unique_values:\n",
        "        cumulative += probs[value]\n",
        "        ccdf_values.append(1 - cumulative)\n",
        "\n",
        "    return unique_values, ccdf_values"
      ]
    },
    {
      "cell_type": "code",
      "execution_count": 30,
      "metadata": {
        "colab": {
          "base_uri": "https://localhost:8080/",
          "height": 801
        },
        "id": "0ZR6OIUYR28S",
        "outputId": "41c7abec-d3c4-44e9-8119-455b71127edf"
      },
      "outputs": [
        {
          "data": {
            "image/png": "[encoded data removed]",
            "text/plain": [
              "<Figure size 1800x500 with 3 Axes>"
            ]
          },
          "metadata": {},
          "output_type": "display_data"
        }
      ],
      "source": [
        "def safe_ccdf_plot(ax, data, title, xlabel):\n",
        "    x, y = ccdf(data)\n",
        "    filtered = [(xi, yi) for xi, yi in zip(x, y) if xi > 0 and yi > 0]\n",
        "    \n",
        "    if not filtered:\n",
        "        ax.set_title(f\"{title} (No data)\")\n",
        "        return\n",
        "    \n",
        "    x_filtered, y_filtered = zip(*filtered)\n",
        "    ax.loglog(x_filtered, y_filtered, 'o-', markersize=3, alpha=0.7)\n",
        "    ax.set_title(title)\n",
        "    ax.set_xlabel(xlabel)\n",
        "    ax.set_ylabel('CCDF')\n",
        "    ax.grid(True, which=\"both\", ls=\"-\", alpha=0.2)\n",
        "\n",
        "\n",
        "fig, axes = plt.subplots(1, 3, figsize=(18, 5))\n",
        "\n",
        "safe_ccdf_plot(axes[0], in_degree_values, \"In-Degree CCDF (Log-Log)\", \"In-Degree\")\n",
        "safe_ccdf_plot(axes[1], out_degree_values, \"Out-Degree CCDF (Log-Log)\", \"Out-Degree\")\n",
        "safe_ccdf_plot(axes[2], total_degree_values, \"Total Degree CCDF (Log-Log)\", \"Total Degree\")\n",
        "\n",
        "plt.tight_layout()\n",
        "plt.show()\n"
      ]
    },
    {
      "cell_type": "code",
      "execution_count": 31,
      "metadata": {},
      "outputs": [
        {
          "data": {
            "text/plain": [
              "to_address\n",
              "0xa43fe16908251ee70ef74718545e4fe6c5ccec9f    159319\n",
              "0x11950d141ecb863f01007add7d1a342041227b58    129394\n",
              "0x74de5d4fcbf63e00296fd95d33236b9794016631     75357\n",
              "0xf239009a101b6b930a527deaab6961b6e7dec8a6     63499\n",
              "0xe66b31678d6c16e9ebf358268a790b763c133750     14345\n",
              "Name: count, dtype: int64"
            ]
          },
          "execution_count": 31,
          "metadata": {},
          "output_type": "execute_result"
        }
      ],
      "source": [
        "df[\"from_address\"].value_counts().head()\n",
        "df[\"to_address\"].value_counts().head()\n"
      ]
    },
    {
      "cell_type": "code",
      "execution_count": null,
      "metadata": {},
      "outputs": [],
      "source": []
    }
  ],
  "metadata": {
    "colab": {
      "provenance": []
    },
    "kernelspec": {
      "display_name": ".venv",
      "language": "python",
      "name": "python3"
    },
    "language_info": {
      "codemirror_mode": {
        "name": "ipython",
        "version": 3
      },
      "file_extension": ".py",
      "mimetype": "text/x-python",
      "name": "python",
      "nbconvert_exporter": "python",
      "pygments_lexer": "ipython3",
      "version": "3.10.0"
    }
  },
  "nbformat": 4,
  "nbformat_minor": 0
}
